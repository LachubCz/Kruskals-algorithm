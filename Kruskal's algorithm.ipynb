{
 "cells": [
  {
   "cell_type": "code",
   "execution_count": 114,
   "metadata": {},
   "outputs": [],
   "source": [
    "class node():\n",
    "    def __init__(self, name):\n",
    "        self.name = name\n",
    "        self.neighbours = []\n",
    "\n",
    "    def __str__(self):\n",
    "        x = '['\n",
    "        for i, item in enumerate(self.neighbours):\n",
    "            x += \"[{}, {}]\".format(item[0].name, item[1])\n",
    "        x += ']'\n",
    "        return x\n",
    "        \n",
    "    def add_neighbour(self, neighbour, distance):\n",
    "        self.neighbours.append([neighbour, distance])\n",
    "        \n",
    "node_names = ['A', 'B', 'C', 'D', 'E', 'F', 'G', 'H', 'I', 'J', 'K', 'L', 'M', 'N', 'O']\n",
    "neighbours = [\n",
    "        [['E', 1], ['B', 3]],                     #A\n",
    "        [['A', 3], ['E', 1], ['F', 2], ['C', 2]], #B\n",
    "        [['B', 2], ['G', 1], ['H', 3]],           #C\n",
    "        [['E', 3], ['L', 1]],                     #D\n",
    "        [['A', 1], ['B', 1], ['I', 5], ['D', 3]], #E\n",
    "        [['B', 2], ['G', 3]],                     #F\n",
    "        [['C', 1], ['F', 3], ['J', 4]],           #G\n",
    "        [['C', 3], ['K', 2], ['O', 7]],           #H\n",
    "        [['E', 5], ['J', 7], ['L', 1]],           #I\n",
    "        [['I', 7], ['G', 4], ['K', 3]],           #J\n",
    "        [['J', 3], ['H', 2], ['O', 1], ['M', 1]], #K\n",
    "        [['D', 1], ['I', 1], ['M', 2]],           #L\n",
    "        [['L', 2], ['K', 1], ['N', 3]],           #M\n",
    "        [['M', 3], ['O', 2]],                     #N\n",
    "        [['H', 7], ['K', 1], ['N', 2]]            #O\n",
    "]\n",
    "\n",
    "nodes = []\n",
    "for name in node_names:\n",
    "    nodes.append(node(name))\n",
    "\n",
    "for i, item in enumerate(nodes):\n",
    "    for e, elem in enumerate(neighbours[i]):\n",
    "        for node in nodes:\n",
    "            if node.name == elem[0]:\n",
    "                item.add_neighbour(node, elem[1])"
   ]
  },
  {
   "cell_type": "code",
   "execution_count": 115,
   "metadata": {},
   "outputs": [],
   "source": [
    "import operator\n",
    "    \n",
    "def kruskal(nodes):\n",
    "    A = []\n",
    "    sets = []\n",
    "    for i, item in enumerate(nodes):\n",
    "        temp = set()\n",
    "        temp.add(item.name)\n",
    "        sets.append(temp)\n",
    "\n",
    "    E = dict()\n",
    "    for i, item in enumerate(nodes):\n",
    "        for e, elem in enumerate(item.neighbours):\n",
    "            temp = set()\n",
    "            temp.add(item.name)\n",
    "            temp.add(elem[0].name)\n",
    "            temp = frozenset(temp)\n",
    "            E[temp] = elem[1]\n",
    "\n",
    "    E = sorted(E.items(), key=operator.itemgetter(1))\n",
    "\n",
    "    for i, item in enumerate(E):\n",
    "        idx_1 = None\n",
    "        idx_2 = None\n",
    "        for e, elem in enumerate(sets):\n",
    "            if tuple(item[0])[0] in elem:\n",
    "                idx_1 = e\n",
    "            if tuple(item[0])[1] in elem:\n",
    "                idx_2 = e\n",
    "            \n",
    "        if sets[idx_1] != sets[idx_2]:\n",
    "            A.append(tuple(item[0]))\n",
    "            sets[idx_1] = sets[idx_1].union(sets[idx_2])\n",
    "            del sets[idx_2]\n",
    "\n",
    "    return A"
   ]
  },
  {
   "cell_type": "code",
   "execution_count": 116,
   "metadata": {},
   "outputs": [
    {
     "name": "stdout",
     "output_type": "stream",
     "text": [
      "From A to E\n",
      "From E to B\n",
      "From G to C\n",
      "From D to L\n",
      "From I to L\n",
      "From O to K\n",
      "From K to M\n",
      "From F to B\n",
      "From C to B\n",
      "From H to K\n",
      "From L to M\n",
      "From O to N\n",
      "From H to C\n",
      "From J to K\n"
     ]
    }
   ],
   "source": [
    "A = kruskal(nodes)\n",
    "\n",
    "for i, item in enumerate(A):\n",
    "    print(\"From {} to {}\" .format(item[0], item[1]))\n"
   ]
  }
 ],
 "metadata": {
  "kernelspec": {
   "display_name": "Python 3",
   "language": "python",
   "name": "python3"
  },
  "language_info": {
   "codemirror_mode": {
    "name": "ipython",
    "version": 3
   },
   "file_extension": ".py",
   "mimetype": "text/x-python",
   "name": "python",
   "nbconvert_exporter": "python",
   "pygments_lexer": "ipython3",
   "version": "3.6.8"
  }
 },
 "nbformat": 4,
 "nbformat_minor": 2
}
